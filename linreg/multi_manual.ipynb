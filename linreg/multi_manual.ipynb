{
 "cells": [
  {
   "cell_type": "markdown",
   "metadata": {},
   "source": [
    "# Linear regression - Multiple variables\n",
    "\n",
    "Inspired from notebook here: http://nbviewer.ipython.org/github/justmarkham/DAT4/blob/master/notebooks/08_linear_regression.ipynb\n",
    "\n",
    "Purpose of this notebook is to perform linear regression using gradient descent and normal equation manually instead of using scikit built in functions as in the original notebook."
   ]
  },
  {
   "cell_type": "markdown",
   "metadata": {},
   "source": [
    "## Step 1: Reading input data"
   ]
  },
  {
   "cell_type": "code",
   "execution_count": 2,
   "metadata": {
    "collapsed": false
   },
   "outputs": [],
   "source": [
    "import pandas as pd\n",
    "import matplotlib.pyplot as plt\n",
    "import numpy as np\n",
    "\n",
    "%matplotlib inline"
   ]
  },
  {
   "cell_type": "code",
   "execution_count": 3,
   "metadata": {
    "collapsed": false
   },
   "outputs": [
    {
     "data": {
      "text/html": [
       "<div>\n",
       "<table border=\"1\" class=\"dataframe\">\n",
       "  <thead>\n",
       "    <tr style=\"text-align: right;\">\n",
       "      <th></th>\n",
       "      <th>TV</th>\n",
       "      <th>Radio</th>\n",
       "      <th>Newspaper</th>\n",
       "      <th>Sales</th>\n",
       "    </tr>\n",
       "  </thead>\n",
       "  <tbody>\n",
       "    <tr>\n",
       "      <th>1</th>\n",
       "      <td>230.1</td>\n",
       "      <td>37.8</td>\n",
       "      <td>69.2</td>\n",
       "      <td>22.1</td>\n",
       "    </tr>\n",
       "    <tr>\n",
       "      <th>2</th>\n",
       "      <td>44.5</td>\n",
       "      <td>39.3</td>\n",
       "      <td>45.1</td>\n",
       "      <td>10.4</td>\n",
       "    </tr>\n",
       "    <tr>\n",
       "      <th>3</th>\n",
       "      <td>17.2</td>\n",
       "      <td>45.9</td>\n",
       "      <td>69.3</td>\n",
       "      <td>9.3</td>\n",
       "    </tr>\n",
       "    <tr>\n",
       "      <th>4</th>\n",
       "      <td>151.5</td>\n",
       "      <td>41.3</td>\n",
       "      <td>58.5</td>\n",
       "      <td>18.5</td>\n",
       "    </tr>\n",
       "    <tr>\n",
       "      <th>5</th>\n",
       "      <td>180.8</td>\n",
       "      <td>10.8</td>\n",
       "      <td>58.4</td>\n",
       "      <td>12.9</td>\n",
       "    </tr>\n",
       "  </tbody>\n",
       "</table>\n",
       "</div>"
      ],
      "text/plain": [
       "      TV  Radio  Newspaper  Sales\n",
       "1  230.1   37.8       69.2   22.1\n",
       "2   44.5   39.3       45.1   10.4\n",
       "3   17.2   45.9       69.3    9.3\n",
       "4  151.5   41.3       58.5   18.5\n",
       "5  180.8   10.8       58.4   12.9"
      ]
     },
     "execution_count": 3,
     "metadata": {},
     "output_type": "execute_result"
    }
   ],
   "source": [
    "data = pd.read_csv('http://www-bcf.usc.edu/~gareth/ISL/Advertising.csv', index_col=0)\n",
    "data.head()"
   ]
  },
  {
   "cell_type": "code",
   "execution_count": 4,
   "metadata": {
    "collapsed": false
   },
   "outputs": [
    {
     "data": {
      "text/plain": [
       "(200, 4)"
      ]
     },
     "execution_count": 4,
     "metadata": {},
     "output_type": "execute_result"
    }
   ],
   "source": [
    "data.shape"
   ]
  },
  {
   "cell_type": "markdown",
   "metadata": {},
   "source": [
    "## Step 2: Plotting/Visualizing input data"
   ]
  },
  {
   "cell_type": "code",
   "execution_count": 5,
   "metadata": {
    "collapsed": false
   },
   "outputs": [
    {
     "data": {
      "text/plain": [
       "<matplotlib.axes._subplots.AxesSubplot at 0x7f9508663f10>"
      ]
     },
     "execution_count": 5,
     "metadata": {},
     "output_type": "execute_result"
    },
    {
     "data": {
      "image/png": "[encoded data removed]",
      "text/plain": [
       "<matplotlib.figure.Figure at 0x7f952c039dd0>"
      ]
     },
     "metadata": {},
     "output_type": "display_data"
    }
   ],
   "source": [
    "# visualize the relationship between the features and the response using scatterplots\n",
    "fig, axs = plt.subplots(1, 3, sharey=True)\n",
    "data.plot(kind='scatter', x='TV', y='Sales', ax=axs[0], figsize=(16, 8))\n",
    "data.plot(kind='scatter', x='Radio', y='Sales', ax=axs[1])\n",
    "data.plot(kind='scatter', x='Newspaper', y='Sales', ax=axs[2])"
   ]
  },
  {
   "cell_type": "markdown",
   "metadata": {},
   "source": [
    "## Step 3: Calculating parameters of regression\n",
    "\n",
    "Linear regression attempts to map inputs to outputs as follows:\n",
    "\n",
    "$$\n",
    "y = \\theta_0 + \\theta_1 x_1 + \\theta_2 x_2 ... \\theta_n x_n\n",
    "$$\n",
    "where,\n",
    "* $ x_1 ... x_n $ are 'n' input features\n",
    "* $ \\theta_1 ... \\theta_n $ are feature parameters\n",
    "* $ \\theta_0 $ is intercept parameter\n",
    "\n",
    "To simplify/optimize calculations, we introduce an artificial feature $ x_0 $ which is always 1, so that our linear regression relation looks like following:\n",
    "\n",
    "$$\n",
    "y = \\theta_0 x_0 + \\theta_1 x_1 + \\theta_2 x_2 ... \\theta_n x_n\n",
    "$$\n",
    "\n",
    "We represent input feature vector as $ X $ ((n+1) x 1 matrix) and feature vector as $ \\theta $ ((n+1) x 1 matrix) . The output can be simply calculated by following formula:\n",
    "\n",
    "$$\n",
    "y = \\theta^T X\n",
    "$$"
   ]
  },
  {
   "cell_type": "code",
   "execution_count": 6,
   "metadata": {
    "collapsed": true
   },
   "outputs": [],
   "source": [
    "# Hypothesis function\n",
    "def hypothesisLinearRegression(theta, X):\n",
    "    return np.dot(X, theta)"
   ]
  },
  {
   "cell_type": "markdown",
   "metadata": {},
   "source": [
    "### 3.1 Calculating cost for a given $ \\theta $\n",
    "\n",
    "The cost associated with a given set of parameters ($\\theta$) can be calculated as a sum of squared errors as follows:\n",
    "\n",
    "$$\n",
    "J = \\frac {1}{2m} \\sum_{i=1}^{m} [h_\\theta(x^{(i)}) - y^{(i)}]^2\n",
    "$$\n",
    "where $h_\\theta(x^{(i)})$ is the hypothesis on a set of input values $x^{(i)}$ for a given $\\theta$"
   ]
  },
  {
   "cell_type": "code",
   "execution_count": 7,
   "metadata": {
    "collapsed": true
   },
   "outputs": [],
   "source": [
    "# Function to calculate cost for a given set of parameters (theta)\n",
    "def costLinearRegression(theta, X, y):\n",
    "    m = X.shape[0]\n",
    "    diff = hypothesisLinearRegression(theta, X) - y\n",
    "    cost = (1.0/(2 * m)) * sum( pow(diff, 2) )\n",
    "      \n",
    "    return cost[0]"
   ]
  },
  {
   "cell_type": "markdown",
   "metadata": {},
   "source": [
    "### 3.2 Minimizing cost using Gradient Descent\n",
    "\n",
    "The objective of the algorithm is to find out $\\theta$ such that the cost is minimal. So the problem boils down to minimizing the cost with respect to $\\theta$, which can be done by taking partial derivative of the cost function with respect to elements of $\\theta$.\n",
    "\n",
    "Using gradient descent algorithm, we can initialize $\\theta$ to contain all zeroes (any random values are equally appropriate) and take one step at a time towards a local minima.\n",
    "\n",
    "Mathematically it can be expressed as follows:\n",
    "\n",
    "repeat till convergence: {\n",
    "$$\n",
    "\\begin{align}\n",
    "\\theta_0 := \\theta_0 - \\alpha \\frac 1m \\sum_{1=1}^m ( h_\\theta(x^{(i)}) - y^{(i)}).x_0^{(i)} \\\\\n",
    "\\theta_1 := \\theta_0 - \\alpha \\frac 1m \\sum_{1=1}^m ( h_\\theta(x^{(i)}) - y^{(i)}).x_1^{(i)} \\\\\n",
    "\\theta_2 := \\theta_0 - \\alpha \\frac 1m \\sum_{1=1}^m ( h_\\theta(x^{(i)}) - y^{(i)}).x_2^{(i)} \\\\\n",
    "... \\\\\n",
    "\\theta_n := \\theta_0 - \\alpha \\frac 1m \\sum_{1=1}^m ( h_\\theta(x^{(i)}) - y^{(i)}).x_n^{(i)} \\\\\n",
    "\\end{align}\n",
    "$$\n",
    "}\n",
    "\n",
    "We repeatedly calculate new values of $\\theta$ from the immediately previous values and calculate cost for the new $\\theta$ until the cost no more decreases significantly.\n",
    "\n",
    "Here $\\alpha$ is a chosen constant that represents the step size of gradient descent. Too big step size can cause gradient descent to diverge, while too small step size can cause the algorithm to take a long time to reach global minima."
   ]
  },
  {
   "cell_type": "code",
   "execution_count": 8,
   "metadata": {
    "collapsed": true
   },
   "outputs": [],
   "source": [
    "def gradientDescent(theta, X, y, alpha, num_iters):\n",
    "    m = X.shape[0]\n",
    "    cost_history = [costLinearRegression(theta, X, y)]\n",
    "\n",
    "    for i in range(1,num_iters):\n",
    "        H = hypothesisLinearRegression(theta, X)\n",
    "        D = H - y\n",
    "        theta = theta - ( (alpha/m) * np.dot(D.T, X).T )\n",
    "        cost_history = np.append(cost_history, costLinearRegression(theta, X, y))\n",
    "    \n",
    "    return theta, cost_history"
   ]
  },
  {
   "cell_type": "markdown",
   "metadata": {},
   "source": [
    "Additionally, gradient descent can be ineffective or inefficient if the different features of data are having different ranges. For example first feature is in range of a few hundreds, while the second and third features are only in range of a few tens.\n",
    "\n",
    "For these cases, it is helpful to \"normalize\" all features to same range by using mean and range of the corresponding features."
   ]
  },
  {
   "cell_type": "code",
   "execution_count": 9,
   "metadata": {
    "collapsed": false
   },
   "outputs": [],
   "source": [
    "# Feature normalization\n",
    "def featureNormalize(X, xmax, xmin, xmean):\n",
    "    xrange = xmax - xmin\n",
    "    return ( X - xmean ) / xrange"
   ]
  },
  {
   "cell_type": "markdown",
   "metadata": {},
   "source": [
    "### Applying gradient descent on data"
   ]
  },
  {
   "cell_type": "code",
   "execution_count": 10,
   "metadata": {
    "collapsed": false
   },
   "outputs": [
    {
     "name": "stdout",
     "output_type": "stream",
     "text": [
      "Training error(100 examples) = 2.0180834913\n",
      "CV error(50 examples) = 2.98196340063\n",
      "Test error(50 examples) = 2.0301526179\n"
     ]
    },
    {
     "data": {
      "image/png": "[encoded data removed]",
      "text/plain": [
       "<matplotlib.figure.Figure at 0x7f950adba850>"
      ]
     },
     "metadata": {},
     "output_type": "display_data"
    }
   ],
   "source": [
    "# Extract into separate matrices for input and output\n",
    "X = data.ix[:,0:3].as_matrix()\n",
    "y = data.ix[:,3].as_matrix()\n",
    "y = np.reshape(y, (y.shape[0], 1))\n",
    "\n",
    "# Adding intercept term to input matrix\n",
    "X1 = np.append(np.ones((X.shape[0],1)), X, axis = 1)\n",
    "\n",
    "theta = np.zeros((X.shape[1] + 1, 1))\n",
    "\n",
    "# Dividing data into three sets\n",
    "# 1. Training set\n",
    "# 2. Cross validation set\n",
    "# 3. Test set\n",
    "# A good set of parameters should not only prove good for training set,\n",
    "# but also for cross validation (CV) and test sets\n",
    "total_size = X.shape[0]\n",
    "training_set_size = total_size / 2\n",
    "cv_set_size = total_size / 4\n",
    "test_set_size = total_size - (training_set_size + cv_set_size)\n",
    "\n",
    "xmax = X.max(0)\n",
    "xmin = X.min(0)\n",
    "xmean = X.mean(0)\n",
    "\n",
    "Xtrain = X[0:training_set_size, :]\n",
    "XtrainNorm = featureNormalize(Xtrain, xmax, xmin, xmean)\n",
    "XtrainNorm = np.append(np.ones((XtrainNorm.shape[0],1)), XtrainNorm, axis = 1)\n",
    "ytrain = y[0:training_set_size]\n",
    "\n",
    "Xcv = X[(training_set_size + 1):(training_set_size + cv_set_size), :]\n",
    "XcvNorm = featureNormalize(Xcv, xmax, xmin, xmean)\n",
    "XcvNorm = np.append(np.ones((XcvNorm.shape[0],1)), XcvNorm, axis = 1)\n",
    "ycv = y[(training_set_size + 1): (training_set_size + cv_set_size)]\n",
    "\n",
    "Xtest = X[(training_set_size + cv_set_size + 1):(training_set_size + cv_set_size + test_set_size), :]\n",
    "XtestNorm = featureNormalize(Xtest, xmax, xmin, xmean)\n",
    "XtestNorm = np.append(np.ones((XtestNorm.shape[0],1)), XtestNorm, axis = 1)\n",
    "ytest = y[(training_set_size + cv_set_size + 1): (training_set_size + cv_set_size + test_set_size)]\n",
    "\n",
    "# Determined by trial and error\n",
    "alpha = 0.03\n",
    "num_iters = 500\n",
    "\n",
    "theta, cost_history = gradientDescent(theta, XtrainNorm, ytrain, alpha, num_iters)\n",
    "plt.plot(cost_history)\n",
    "\n",
    "print \"Training error(\" + str(training_set_size) + \" examples) = \" + str(costLinearRegression(theta, XtrainNorm, ytrain))\n",
    "print \"CV error(\" + str(cv_set_size) + \" examples) = \" + str(costLinearRegression(theta, XcvNorm, ycv))\n",
    "print \"Test error(\" + str(test_set_size) + \" examples) = \" + str(costLinearRegression(theta, XtestNorm, ytest))\n"
   ]
  },
  {
   "cell_type": "markdown",
   "metadata": {
    "collapsed": true
   },
   "source": [
    "## Predicting sales for a given advertising budget\n",
    "\n",
    "Now we have a trained model, which can be used for predicting sales for any given set of values for TV, radio and newspaper advertising.\n",
    "So, lets take example case where we allocate following budgets:\n",
    "\n",
    "| TV   | Radio | Newspaper |\n",
    "| ---- |-------|-----------|\n",
    "| 10   | 5     | 5         |\n",
    "| 50   | 25    | 25        |\n",
    "| 100  | 50    | 50        |\n",
    "| 200  | 100   | 50        |\n",
    "| 100  | 5     | 10        |\n",
    "\n",
    "We want to predict what sales to expect for this budget.\n"
   ]
  },
  {
   "cell_type": "code",
   "execution_count": 11,
   "metadata": {
    "collapsed": false
   },
   "outputs": [
    {
     "name": "stdout",
     "output_type": "stream",
     "text": [
      "Predicted sales for given data = [[  6.94471129]\n",
      " [ 11.22847305]\n",
      " [ 16.58317526]\n",
      " [ 26.93763672]\n",
      " [  9.95552631]]\n"
     ]
    }
   ],
   "source": [
    "Xpred = np.matrix('10 5 5; 50 25 25; 100 50 50; 200 100 50; 100 5 10')\n",
    "XpredNorm = featureNormalize(Xpred, xmax, xmin, xmean)\n",
    "XpredNorm = np.append(np.ones((XpredNorm.shape[0],1)), XpredNorm, axis = 1)\n",
    "\n",
    "ypred = hypothesisLinearRegression(theta, XpredNorm)\n",
    "                             \n",
    "print \"Predicted sales for given data = \" + str(ypred)"
   ]
  },
  {
   "cell_type": "markdown",
   "metadata": {},
   "source": [
    "So our prediction for sales for given data is as follows:\n",
    "\n",
    "| TV   | Radio | Newspaper | Sales |\n",
    "| ---- |-------|-----------| ----- |\n",
    "| 10   | 5     | 5         | 6.94  | \n",
    "| 50   | 25    | 25        | 11.22 |\n",
    "| 100  | 50    | 50        | 16.58 |\n",
    "| 200  | 100   | 50        | 26.93 |\n",
    "| 100  | 5     | 10        | 9.95  |"
   ]
  },
  {
   "cell_type": "markdown",
   "metadata": {},
   "source": [
    "### 3.3 Minimizing cost using normal equation"
   ]
  },
  {
   "cell_type": "markdown",
   "metadata": {},
   "source": [
    "Instead of using gradient descent, which moves one step at a time towards global cost minima and finds the corresponding parameters of regression, we can arrive directly at the parameters which would minimize cost using normal equation.\n",
    "\n",
    "The $\\theta$ that minimizes cost is given by:\n",
    "$$\n",
    "\\theta = (X^TX)^{-1}X^Ty\n",
    "$$\n",
    "\n",
    "Comparison of gradient descent vs Normal equation approach:\n",
    "\n",
    "| Gradient descent | Normal equation |\n",
    "|------------------|-----------------|\n",
    "| Needs feature scaling | Does not need feature scaling |\n",
    "| Needs to choose optimal step size $\\alpha$ | Does not need step size |\n",
    "| Works well for large number of features 'n' | Slow for large number of features 'n' |\n"
   ]
  },
  {
   "cell_type": "code",
   "execution_count": 32,
   "metadata": {
    "collapsed": true
   },
   "outputs": [],
   "source": [
    "def normalEquation(X, y):\n",
    "    from numpy.linalg import inv\n",
    "    theta= np.dot( np.dot( inv( np.dot(X.T, X) ), X.T ), y )\n",
    "    return theta"
   ]
  },
  {
   "cell_type": "markdown",
   "metadata": {},
   "source": [
    "Using the above function, we can calculate the new theta:"
   ]
  },
  {
   "cell_type": "code",
   "execution_count": 34,
   "metadata": {
    "collapsed": false
   },
   "outputs": [
    {
     "name": "stdout",
     "output_type": "stream",
     "text": [
      "Training error(100 examples) = 1.16186519764\n",
      "CV error(50 examples) = 2.08086215169\n",
      "Test error(50 examples) = 1.26692081356\n"
     ]
    }
   ],
   "source": [
    "theta_ne = normalEquation(XtrainNorm, ytrain)\n",
    "\n",
    "print \"Training error(\" + str(training_set_size) + \" examples) = \" + str(costLinearRegression(theta_ne, XtrainNorm, ytrain))\n",
    "print \"CV error(\" + str(cv_set_size) + \" examples) = \" + str(costLinearRegression(theta_ne, XcvNorm, ycv))\n",
    "print \"Test error(\" + str(test_set_size) + \" examples) = \" + str(costLinearRegression(theta_ne, XtestNorm, ytest))"
   ]
  },
  {
   "cell_type": "markdown",
   "metadata": {},
   "source": [
    "## Predicting sales for a given advertising budget\n",
    "\n",
    "Lets predict the sales for the same advertising budget that we used for gradient descent above."
   ]
  },
  {
   "cell_type": "code",
   "execution_count": 36,
   "metadata": {
    "collapsed": false
   },
   "outputs": [
    {
     "name": "stdout",
     "output_type": "stream",
     "text": [
      "Predicted sales for given data = [[  4.71202839]\n",
      " [ 10.16100038]\n",
      " [ 16.97221536]\n",
      " [ 31.12793295]\n",
      " [  8.75486473]]\n"
     ]
    }
   ],
   "source": [
    "ypred_ne = hypothesisLinearRegression(theta_ne, XpredNorm)\n",
    "\n",
    "print \"Predicted sales for given data = \" + str(ypred_ne)"
   ]
  },
  {
   "cell_type": "markdown",
   "metadata": {},
   "source": [
    "So our prediction for sales for given data is as follows:\n",
    "\n",
    "| TV   | Radio | Newspaper | Sales predicted using gradient descent | Sales predicted using normal equation\n",
    "| ---- |-------|-----------| ----- |------|\n",
    "| 10   | 5     | 5         | 6.94  | 4.71 |\n",
    "| 50   | 25    | 25        | 11.22 | 10.16 |\n",
    "| 100  | 50    | 50        | 16.58 | 16.97 |\n",
    "| 200  | 100   | 50        | 26.93 | 31.12 |\n",
    "| 100  | 5     | 10        | 9.95  | 8.75 |\n",
    "\n",
    "The values predicted by normal equation are expected to be more accurate due to a lower cost on all three sets of data (training, cv, test) (see above)"
   ]
  }
 ],
 "metadata": {
  "kernelspec": {
   "display_name": "Python 2",
   "language": "python",
   "name": "python2"
  },
  "language_info": {
   "codemirror_mode": {
    "name": "ipython",
    "version": 2
   },
   "file_extension": ".py",
   "mimetype": "text/x-python",
   "name": "python",
   "nbconvert_exporter": "python",
   "pygments_lexer": "ipython2",
   "version": "2.7.10"
  }
 },
 "nbformat": 4,
 "nbformat_minor": 0
}
