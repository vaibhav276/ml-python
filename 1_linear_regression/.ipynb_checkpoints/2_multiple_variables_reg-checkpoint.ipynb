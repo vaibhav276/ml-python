{
 "cells": [
  {
   "cell_type": "markdown",
   "metadata": {},
   "source": [
    "# Linear regression: Multiple variables with Regularization\n",
    "\n",
    "This notebook is an extension to <a href=\"multiple_variables.ipynb\"> Linear Regresssion: Multiple Variables </a> notebook. Please refer to it before reading this. We will enhance the solution by performing regularization while calculating the values of $\\theta$.\n",
    "\n",
    "## What is regularization?\n",
    "Regularization is a technique to improve the generalization of a model. For a given set of training examples, there are an infinite number of curves that can fit, most of which are overcomplicated - having too many curves and angles. These kind of overcompilcated models don't usually generalize well to new examples outside the training set. This problem is called \"overfitting\". It is also called \"High variance problem\".\n",
    "\n",
    "<img src = \"https://upload.wikimedia.org/wikipedia/commons/f/fd/75hwQ.jpg\" />\n",
    "\n",
    "On the other extreme, we have something called as \"underfitting\" or \"High bias problem\", in which the curve in question is too rigid.\n",
    "\n",
    "In the above figure, the green and blue functions both incur zero loss on the given data points. A learned model can be induced to prefer the green function, which may generalize better to more points drawn from the underlying unknown distribution. With regularization we attempt to solve the problem of overfitting by introducing a regularization term to the cost function, which essentially penalizes high values of $\\theta$, keeping the variance of the model managable.\n",
    "\n",
    "## The new cost function\n",
    "\n",
    "The new cost function look like this:\n",
    "\n",
    "$$\n",
    "J = \\frac {1}{2m} \\sum_{i=1}^{m} [h_\\theta(x^{(i)}) - y^{(i)}]^2 + \\frac \\lambda {2m} \\sum_{j = 1}^n \\theta^2\n",
    "$$\n",
    "\n",
    "where $\\lambda$ is a variable to control the amount of regularization.\n",
    "\n",
    "Note that if we introduce an intercept term $x_0$ and its corresponding $\\theta_0$, we don't include $\\theta_0$ in the summation of $\\theta$ because $x_0$ is a constant term.\n",
    "\n",
    "The following code implements the new cost function:"
   ]
  },
  {
   "cell_type": "code",
   "execution_count": 96,
   "metadata": {
    "collapsed": true
   },
   "outputs": [],
   "source": [
    "# Hypothesis function\n",
    "def hypothesisLinearRegression(theta, X):\n",
    "    return np.dot(X, theta)\n",
    "\n",
    "# Function to calculate cost for a given set of parameters (theta)\n",
    "def costLinearRegressionReg(theta, X, y, lmbda):\n",
    "    m = X.shape[0]\n",
    "    diff = hypothesisLinearRegression(theta, X) - y\n",
    "    cost = (1.0/(2 * m)) * (np.dot(diff.T, diff))\n",
    "    theta_ = np.copy(theta)\n",
    "    theta_[0][0] = 0;\n",
    "    reg = (lmbda/(2 * m)) * np.dot(theta_.T, theta_)\n",
    "    cost = cost + reg;\n",
    "    return cost[0]"
   ]
  },
  {
   "cell_type": "markdown",
   "metadata": {},
   "source": [
    "## Regularized Gradient Descent\n",
    "\n",
    "Since we have a new cost function, the gradient function will also be different. The new gradient descent algorithm is:\n",
    "\n",
    "repeat till convergence: {\n",
    "$$\n",
    "\\begin{align}\n",
    "\\theta_0 := \\theta_0 - \\alpha \\left(\\frac 1m \\sum_{1=1}^m ( h_\\theta(x^{(i)}) - y^{(i)}).x_0^{(i)}\\right) \\\\\n",
    "\\theta_1 := \\theta_0 - \\alpha \\left(\\frac 1m \\sum_{1=1}^m ( h_\\theta(x^{(i)}) - y^{(i)}).x_1^{(i)} + \\frac \\lambda m \\theta_1\\right) \\\\\n",
    "\\theta_2 := \\theta_0 - \\alpha \\left(\\frac 1m \\sum_{1=1}^m ( h_\\theta(x^{(i)}) - y^{(i)}).x_2^{(i)} + \\frac \\lambda m \\theta_2\\right) \\\\\n",
    "\\vdots \\\\\n",
    "\\theta_n := \\theta_0 - \\alpha \\left(\\frac 1m \\sum_{1=1}^m ( h_\\theta(x^{(i)}) - y^{(i)}).x_n^{(i)} + \\frac \\lambda m \\theta_n\\right) \\\\\n",
    "\\end{align}\n",
    "$$\n",
    "}\n",
    "\n",
    "The following is our new gradient descent algorithm implemented:"
   ]
  },
  {
   "cell_type": "code",
   "execution_count": 97,
   "metadata": {
    "collapsed": true
   },
   "outputs": [],
   "source": [
    "def gradientDescentReg(theta, X, y, alpha, num_iters, lmbda):\n",
    "    m = X.shape[0]\n",
    "    cost_history = [costLinearRegressionReg(theta, X, y, lmbda)]\n",
    "    \n",
    "    theta_ = np.copy(theta)\n",
    "    theta_[0][0] = 0\n",
    "\n",
    "    for i in range(1,num_iters):\n",
    "        H = hypothesisLinearRegression(theta, X)\n",
    "        D = H - y\n",
    "        theta = theta - ( (alpha/m) * ( np.dot(D.T, X).T + (lmbda * theta_) ) )\n",
    "        cost_history = np.append(cost_history, costLinearRegressionReg(theta, X, y, lmbda))\n",
    "    \n",
    "    return theta, cost_history"
   ]
  },
  {
   "cell_type": "markdown",
   "metadata": {},
   "source": [
    "## Regularized Normal equation\n",
    "\n",
    "Similar to gradient descent, we can also regularize our normal equation. The new equation is:\n",
    "\n",
    "$$\n",
    "\\theta = (X^TX + \\lambda L)^{-1}X^Ty\n",
    "$$\n",
    "\n",
    "where \n",
    "$$\n",
    "L = \\begin{bmatrix}\n",
    "0 \\\\\n",
    "& 1 \\\\\n",
    "& & 1 \\\\\n",
    "& & & \\ddots \\\\\n",
    "& & & & 1 \\\\\n",
    "\\end{bmatrix}\n",
    "$$\n",
    "\n",
    "$L$ is a matrix with 0 at the top and 1's for the rest of the diagonal and 0's everywhere else.\n",
    "\n",
    "The following code implements our new normal equation:"
   ]
  },
  {
   "cell_type": "code",
   "execution_count": 98,
   "metadata": {
    "collapsed": true
   },
   "outputs": [],
   "source": [
    "def normalEquationReg(X, y, lmbda):\n",
    "    from numpy.linalg import inv\n",
    "    L = np.identity(X.shape[1])\n",
    "    L[0][0] = 0\n",
    "    \n",
    "    theta= np.dot( np.dot( inv( np.dot(X.T, X) + (lmbda * L) ), X.T ), y )\n",
    "    return theta"
   ]
  },
  {
   "cell_type": "markdown",
   "metadata": {},
   "source": [
    "## Applying new algorithms on data\n",
    "\n",
    "Following code applies our new regularized algorithms to the same data set that we used in <a href=\"multiple_variables.ipynb\"> Linear Regresssion: Multiple Variables </a>"
   ]
  },
  {
   "cell_type": "code",
   "execution_count": 116,
   "metadata": {
    "collapsed": false
   },
   "outputs": [
    {
     "name": "stdout",
     "output_type": "stream",
     "text": [
      "Output for gradient descent method:\n",
      "Training error(160 examples) = [[ 1.4999024]]\n",
      "Test error(40 examples) = [[ 8.90139916]]\n",
      "Theta [[ 14.04592995]\n",
      " [  3.77603787]\n",
      " [  2.66416846]\n",
      " [  0.16285498]]\n",
      "\n",
      "Output for normal equation method:\n",
      "Training error(160 examples) = [[ 1.49880754]]\n",
      "Test error(40 examples) = [[ 8.90758328]]\n",
      "Theta [[ 14.07875   ]\n",
      " [  3.76423952]\n",
      " [  2.68378826]\n",
      " [  0.1303413 ]]\n"
     ]
    },
    {
     "data": {
      "text/plain": [
       "[<matplotlib.lines.Line2D at 0x7f7bcb268b38>]"
      ]
     },
     "execution_count": 116,
     "metadata": {},
     "output_type": "execute_result"
    },
    {
     "data": {
      "image/png": "[encoded data removed]",
      "text/plain": [
       "<matplotlib.figure.Figure at 0x7f7bcb424198>"
      ]
     },
     "metadata": {},
     "output_type": "display_data"
    }
   ],
   "source": [
    "import pandas as pd\n",
    "import matplotlib.pyplot as plt\n",
    "import numpy as np\n",
    "from sklearn import preprocessing\n",
    "\n",
    "%matplotlib inline\n",
    "\n",
    "data = pd.read_csv('http://www-bcf.usc.edu/~gareth/ISL/Advertising.csv', index_col=0)\n",
    "\n",
    "# Extract into separate matrices for input and output\n",
    "data = np.matrix(data)\n",
    "np.random.shuffle(data)\n",
    "\n",
    "X = data[:,0:3]\n",
    "y = data[:,3]\n",
    "\n",
    "y = np.reshape(y, (y.shape[0], 1))\n",
    "\n",
    "# Feature normalization\n",
    "# Calculate xmax, xmin and xmean from values in X and pass to this function\n",
    "def featureNormalize(X, xmax, xmin, xmean):\n",
    "    xrange = xmax - xmin\n",
    "    R = ( X - xmean ) / xrange\n",
    "    R[ R != R ] = 0 # For cases where xrange value is 0, we get NaN in R\n",
    "    return R\n",
    "\n",
    "# Dividing data into two sets\n",
    "# 1. Training set\n",
    "# 2. Test set\n",
    "# A good set of parameters should not only prove good for training set,\n",
    "# but also for test set\n",
    "total_size = X.shape[0]\n",
    "training_set_size = int(total_size * (0.8))\n",
    "test_set_size = total_size - training_set_size\n",
    "\n",
    "Xtrain = X[0:training_set_size, :]\n",
    "xmax = Xtrain.max(0)\n",
    "xmin = Xtrain.min(0)\n",
    "xmean = Xtrain.mean(0)\n",
    "# XtrainNorm = featureNormalize(Xtrain, xmax, xmin, xmean)\n",
    "XtrainNorm = preprocessing.scale(Xtrain.astype(np.float64))\n",
    "XtrainNorm = np.append(np.ones((XtrainNorm.shape[0],1)), XtrainNorm, axis = 1)\n",
    "ytrain = y[0:training_set_size]\n",
    "\n",
    "Xtest = X[(training_set_size):(training_set_size + test_set_size), :]\n",
    "XtestNorm = featureNormalize(Xtest, xmax, xmin, xmean)\n",
    "XtestNorm = np.append(np.ones((XtestNorm.shape[0],1)), XtestNorm, axis = 1)\n",
    "ytest = y[(training_set_size): (training_set_size + test_set_size)]\n",
    "\n",
    "alpha = 0.03\n",
    "num_iters = 200\n",
    "lmbda = 1\n",
    "\n",
    "theta_gd = np.zeros((X.shape[1] + 1, 1))\n",
    "theta_gd, cost_history = gradientDescentReg(theta_gd, XtrainNorm, ytrain, alpha, num_iters, lmbda)\n",
    "\n",
    "print(\"Output for gradient descent method:\")\n",
    "print (\"Training error(\" + str(training_set_size) + \" examples) = \" + str(costLinearRegressionReg(theta_gd, XtrainNorm, ytrain, lmbda)))\n",
    "print (\"Test error(\" + str(test_set_size) + \" examples) = \" + str(costLinearRegressionReg(theta_gd, XtestNorm, ytest, lmbda)))\n",
    "print (\"Theta\", theta_gd)\n",
    "\n",
    "theta_ne = normalEquationReg(XtrainNorm, ytrain, lmbda)\n",
    "\n",
    "print(\"\\nOutput for normal equation method:\")\n",
    "print (\"Training error(\" + str(training_set_size) + \" examples) = \" + str(costLinearRegressionReg(theta_ne, XtrainNorm, ytrain, lmbda)))\n",
    "print (\"Test error(\" + str(test_set_size) + \" examples) = \" + str(costLinearRegressionReg(theta_ne, XtestNorm, ytest, lmbda)))\n",
    "print (\"Theta\", theta_ne)\n",
    "\n",
    "plt.plot(cost_history)"
   ]
  },
  {
   "cell_type": "markdown",
   "metadata": {},
   "source": [
    "It is expected to get lower values of $\\theta$ components (except $\\theta_0$) when using regularization"
   ]
  }
 ],
 "metadata": {
  "kernelspec": {
   "display_name": "Python 3",
   "language": "python",
   "name": "python3"
  },
  "language_info": {
   "codemirror_mode": {
    "name": "ipython",
    "version": 3
   },
   "file_extension": ".py",
   "mimetype": "text/x-python",
   "name": "python",
   "nbconvert_exporter": "python",
   "pygments_lexer": "ipython3",
   "version": "3.4.3"
  }
 },
 "nbformat": 4,
 "nbformat_minor": 0
}
